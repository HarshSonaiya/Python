{
  "nbformat": 4,
  "nbformat_minor": 0,
  "metadata": {
    "colab": {
      "provenance": [],
      "collapsed_sections": [
        "KBbGNTtQ47mJ"
      ],
      "include_colab_link": true
    },
    "kernelspec": {
      "name": "python3",
      "display_name": "Python 3"
    },
    "language_info": {
      "name": "python"
    }
  },
  "cells": [
    {
      "cell_type": "markdown",
      "metadata": {
        "id": "view-in-github",
        "colab_type": "text"
      },
      "source": [
        "<a href=\"https://colab.research.google.com/github/HarshSonaiya/Python/blob/main/classes3.ipynb\" target=\"_parent\"><img src=\"https://colab.research.google.com/assets/colab-badge.svg\" alt=\"Open In Colab\"/></a>"
      ]
    },
    {
      "cell_type": "markdown",
      "source": [
        "### `Problem-1:` Class inheritence\n",
        "\n",
        "Create a **Bus** child class that inherits from the Vehicle class. The default fare charge of any vehicle is seating capacity * 100. If Vehicle is Bus instance, we need to add an extra 10% on full fare as a maintenance charge. So total fare for bus instance will become the final amount = total fare + 10% of the total fare.\n",
        "\n",
        "Note: The bus seating capacity is 50. so the final fare amount should be 5500. You need to override the fare() method of a Vehicle class in Bus class."
      ],
      "metadata": {
        "id": "BCleRtX43caS"
      }
    },
    {
      "cell_type": "code",
      "execution_count": 4,
      "metadata": {
        "colab": {
          "base_uri": "https://localhost:8080/"
        },
        "id": "6jVFCXKz3YZI",
        "outputId": "2b1ecb4c-d58c-41e1-cc0c-c3da85b53ab7"
      },
      "outputs": [
        {
          "output_type": "stream",
          "name": "stdout",
          "text": [
            "500\n",
            "5500.0\n"
          ]
        }
      ],
      "source": [
        "class Vehicle:\n",
        "    def __init__(self, capacity):\n",
        "        self.capacity = capacity\n",
        "    def fare(self):\n",
        "        return self.capacity * 100\n",
        "\n",
        "class Bus(Vehicle):\n",
        "    def __init__(self, capacity=50):\n",
        "        super().__init__(capacity)\n",
        "\n",
        "    def fare(self):\n",
        "        return 1.1 * super().fare()\n",
        "\n",
        "Car = Vehicle(5)\n",
        "print(Car.fare())\n",
        "Bus = Bus()\n",
        "print(Bus.fare())"
      ]
    },
    {
      "cell_type": "markdown",
      "source": [
        "### `Problem-2:` Class Inheritence\n",
        "\n",
        "Create a Bus class that inherits from the Vehicle class. Give the capacity argument of *Bus.seating_capacity()* a default value of 50.\n",
        "\n",
        "Use the following code for your parent Vehicle class."
      ],
      "metadata": {
        "id": "KBbGNTtQ47mJ"
      }
    },
    {
      "cell_type": "code",
      "source": [],
      "metadata": {
        "id": "MwOnYE_14M-r"
      },
      "execution_count": null,
      "outputs": []
    },
    {
      "cell_type": "code",
      "source": [],
      "metadata": {
        "id": "Py5Gr0ip5OBB"
      },
      "execution_count": null,
      "outputs": []
    },
    {
      "cell_type": "markdown",
      "source": [
        "### `Problem-3:` Write a program that has a class Point. Define another class Location which has two objects (Location & Destination) of class Point. Also define a function in Location that prints the reflection of Destination on the x axis."
      ],
      "metadata": {
        "id": "ExIxsv4y-oEd"
      }
    },
    {
      "cell_type": "code",
      "source": [
        "class Point:\n",
        "    def __init__(self, x, y):\n",
        "        self.x = x\n",
        "        self.y = y\n",
        "\n",
        "class Location():\n",
        "    def __init__(self, location, destination):\n",
        "        self.location = location\n",
        "        self.destination = destination\n",
        "\n",
        "    def reflection(self):\n",
        "      print(\"Reflection on x-axis of the location is:\", -self.location.x, self.location.y)\n",
        "      print(\"Reflection on x-axis of the destination is:\", -self.destination.x, self.destination.y)\n",
        "\n",
        "loc1 = Point(1, 2)\n",
        "loc2 = Point(3, 4)\n",
        "location = Location(loc1, loc2)\n",
        "location.reflection()"
      ],
      "metadata": {
        "id": "yT2QtzQp5VAB",
        "colab": {
          "base_uri": "https://localhost:8080/"
        },
        "outputId": "f321f939-367a-43ef-8f69-4c4157bd7c34"
      },
      "execution_count": 7,
      "outputs": [
        {
          "output_type": "stream",
          "name": "stdout",
          "text": [
            "Reflection on x-axis of the location is: -1 2\n",
            "Reflection on x-axis of the destination is: -3 4\n"
          ]
        }
      ]
    },
    {
      "cell_type": "markdown",
      "source": [
        "### `Problem-4:` Write a program that has an abstract class Polygon. Derive two classes Rectangle and Triamgle from Polygon and write methods to get the details of their dimensions and hence calculate the area."
      ],
      "metadata": {
        "id": "OcQhJvXVALgp"
      }
    },
    {
      "cell_type": "code",
      "source": [
        "from abc import ABC, abstractmethod\n",
        "\n",
        "class Polygon(ABC):\n",
        "\n",
        "  @abstractmethod\n",
        "  def set_dimensions(self):\n",
        "    pass\n",
        "\n",
        "class Rectangle(Polygon):\n",
        "\n",
        "  def set_dimensions(self, length, width):\n",
        "    self.length = length\n",
        "    self.width = width\n",
        "\n",
        "  def area(self):\n",
        "    return self.length * self.width\n",
        "\n",
        "class Triangle(Polygon):\n",
        "\n",
        "  def set_dimensions(self, base, height):\n",
        "    self.base = base\n",
        "    self.height = height\n",
        "\n",
        "  def area(self):\n",
        "    return 0.5 * self.base * self.height\n",
        "\n",
        "rect = Rectangle()\n",
        "rect.set_dimensions(5, 10)\n",
        "print(\"Area of rectangle:\", rect.area())\n",
        "\n",
        "tri = Triangle()\n",
        "tri.set_dimensions(5, 10)\n",
        "print(\"Area of triangle:\", tri.area())"
      ],
      "metadata": {
        "id": "9IMrtdUH__eA",
        "colab": {
          "base_uri": "https://localhost:8080/"
        },
        "outputId": "21c97e86-a356-43e3-aca2-766fac904c1e"
      },
      "execution_count": 9,
      "outputs": [
        {
          "output_type": "stream",
          "name": "stdout",
          "text": [
            "Area of rectangle: 50\n",
            "Area of triangle: 25.0\n"
          ]
        }
      ]
    },
    {
      "cell_type": "markdown",
      "source": [
        "### `Problem-5:` Write a program with class Bill. The users have the option to pay the bill either by cheque or by cash. Use the inheritance to model this situation."
      ],
      "metadata": {
        "id": "sEsGEqOHCSWG"
      }
    },
    {
      "cell_type": "code",
      "source": [
        "class Bill:\n",
        "\n",
        "  def __init__(self, price, items):\n",
        "    self.price = price\n",
        "    self.items = items\n",
        "\n",
        "  def display(self):\n",
        "    self.total = 0\n",
        "    for i in range(len(self.items)):\n",
        "      print(self.items[i], self.price[i])\n",
        "\n",
        "      self.total += self.price[i]\n",
        "    print(\"Total:\", self.total)\n",
        "\n",
        "class Cash(Bill):\n",
        "\n",
        "  def __init__(self, price, items, denom, quantity):\n",
        "    super().__init__(price, items)\n",
        "    self.denom = denom\n",
        "    self.quantity = quantity\n",
        "\n",
        "    print(\"Payment by cash\")\n",
        "    super().display()\n",
        "\n",
        "    print(\"Denomination \\tQuantity \\tAmount\")\n",
        "    for i in range(len(self.denom)):\n",
        "      amount = self.denom[i] * self.quantity[i]\n",
        "      print(self.denom[i],\"\\t\\t\", (self.quantity[i]),\"\\t\\t\", (amount))\n",
        "      self.total -= amount\n",
        "\n",
        "    if self.total < 0:\n",
        "      print(\"Change:\", abs(self.total))\n",
        "    elif self.total > 0:\n",
        "      print(\"Amount left:\", self.total)\n",
        "    else:\n",
        "      print(\"No change, Amount Paid\")\n",
        "\n",
        "class Cheque(Bill):\n",
        "\n",
        "  def __init__(self, price, items, bank_name, cheque_number):\n",
        "    super().__init__(price, items)\n",
        "    self.bank_name = bank_name\n",
        "    self.cheque_number = cheque_number\n",
        "\n",
        "  def display_details(self):\n",
        "    print(\"Payment by cheque\")\n",
        "    super().display()\n",
        "    print(\"Cheque number:\", self.cheque_number)\n",
        "    print(\"Bank name:\", self.bank_name)\n",
        "\n",
        "items = [\"PC\", \"Laptop\", \"Chips\", \"Soda\"]\n",
        "price = [1000, 1200, 200, 520]\n",
        "\n",
        "bill = Bill(price, items)\n",
        "bill.display()\n",
        "option = int(input(\"Enter 1 for cash payment or 2 for Payment by Cheque: \"))\n",
        "\n",
        "if option not in (1,2):\n",
        "  print(\"Invalid option\")\n",
        "elif option == 1:\n",
        "  denom = [1000, 500, 200, 20]\n",
        "  quantity = [3, 1, 2, 1]\n",
        "  cash = Cash(price, items, denom, quantity)\n",
        "else:\n",
        "  bank_name = input(\"Enter the name of the bank: \")\n",
        "  cheque_number = int(input(\"Enter cheque number: \"))\n",
        "  cheque = Cheque(price, items,bank_name, cheque_number)\n",
        "  cheque.display_details()\n"
      ],
      "metadata": {
        "id": "l0WFyP2PB3nf",
        "colab": {
          "base_uri": "https://localhost:8080/"
        },
        "outputId": "6596065e-1723-4c43-ccbb-3fd05268a443"
      },
      "execution_count": 29,
      "outputs": [
        {
          "output_type": "stream",
          "name": "stdout",
          "text": [
            "PC 1000\n",
            "Laptop 1200\n",
            "Chips 200\n",
            "Soda 520\n",
            "Total: 2920\n",
            "Enter 1 for cash payment or 2 for Payment by Cheque: 2\n",
            "Enter the name of the bank: BOB\n",
            "Enter cheque number: 1122113\n",
            "Payment by cheque\n",
            "PC 1000\n",
            "Laptop 1200\n",
            "Chips 200\n",
            "Soda 520\n",
            "Total: 2920\n",
            "Cheque number: 1122113\n",
            "Bank name: BOB\n"
          ]
        }
      ]
    },
    {
      "cell_type": "markdown",
      "source": [
        "###`Q-6:` FlexibleDict\n",
        "As of now we are accessing values from dictionary with exact keys. Now we want to amend accessing values functionality. if a dict have key `1` (int) the even if we try to access values by giving `'1'` (1 as str) as key, we should get the same result and vice versa.\n",
        "\n",
        "Write a class `FlexibleDict` upon builtin `dict` class with above required functionality.\n",
        "\n",
        "Hint- `dict[key] => dict.__getitem__(key)`"
      ],
      "metadata": {
        "id": "v1M5Yh9ZZO0z"
      }
    },
    {
      "cell_type": "markdown",
      "source": [
        "Ex.\n",
        "```\n",
        "fd = FlexibleDict()\n",
        "fd['a'] = 100\n",
        "print(fd['a']) # Like regular dict\n",
        "\n",
        "fd[5] = 500\n",
        "print(fd[5]) # Like regular dict\n",
        "\n",
        "fd[1] = 100\n",
        "print(fd['1']) # actual Key is int but still trying to access through str key.\n",
        "fd['1'] = 100\n",
        "print(fd[1])\n",
        "\n",
        "```\n",
        "`Output:`\n",
        "```\n",
        "100\n",
        "500\n",
        "100\n",
        "100\n",
        "\n",
        "```"
      ],
      "metadata": {
        "id": "uajGeWegbfda"
      }
    },
    {
      "cell_type": "code",
      "source": [],
      "metadata": {
        "id": "OHLbOtCxZ2nw"
      },
      "execution_count": null,
      "outputs": []
    },
    {
      "cell_type": "code",
      "source": [],
      "metadata": {
        "id": "7NM8r__dmeMf"
      },
      "execution_count": null,
      "outputs": []
    },
    {
      "cell_type": "code",
      "source": [],
      "metadata": {
        "id": "waHSud8Ymkz-"
      },
      "execution_count": null,
      "outputs": []
    }
  ]
}