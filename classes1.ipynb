{
  "nbformat": 4,
  "nbformat_minor": 0,
  "metadata": {
    "colab": {
      "provenance": [],
      "include_colab_link": true
    },
    "kernelspec": {
      "name": "python3",
      "display_name": "Python 3"
    },
    "language_info": {
      "name": "python"
    }
  },
  "cells": [
    {
      "cell_type": "markdown",
      "metadata": {
        "id": "view-in-github",
        "colab_type": "text"
      },
      "source": [
        "<a href=\"https://colab.research.google.com/github/HarshSonaiya/Python/blob/main/classes1.ipynb\" target=\"_parent\"><img src=\"https://colab.research.google.com/assets/colab-badge.svg\" alt=\"Open In Colab\"/></a>"
      ]
    },
    {
      "cell_type": "markdown",
      "source": [
        "##`Q-1:` Rectangle Class\n",
        "1. Write a Rectangle class in Python language, allowing you to build a rectangle with length and width attributes.\n",
        "\n",
        "2. Create a Perimeter() method to calculate the perimeter of the rectangle and a Area() method to calculate the area of ​​the rectangle.\n",
        "\n",
        "3. Create a method display() that display the length, width, perimeter and area of an object created using an instantiation on rectangle class."
      ],
      "metadata": {
        "id": "FyUJ3PRAsPr4"
      }
    },
    {
      "cell_type": "markdown",
      "source": [
        "Eg.\n",
        "After making above classes and methods, on executing below code:-\n",
        "```\n",
        "my_rectangle = Rectangle(3 , 4)\n",
        "my_rectangle.display()\n",
        "```\n",
        "\n",
        "`Output:`\n",
        "```\n",
        "The length of rectangle is:  3\n",
        "The width of rectangle is:  4\n",
        "The perimeter of rectangle is:  14\n",
        "The area of rectangle is:  12\n",
        "```\n"
      ],
      "metadata": {
        "id": "GxUtOqJfssFK"
      }
    },
    {
      "cell_type": "code",
      "source": [
        "# write your code here\n",
        "class Rectangle :\n",
        "    def __init__(self, length, width):\n",
        "        self.__length =  length\n",
        "        self.__width = width\n",
        "\n",
        "    def perimeter(self):\n",
        "        return 2 * (self.__length + self.__width)\n",
        "\n",
        "    def area(self):\n",
        "        return self.__length* self.__width\n",
        "\n",
        "    def display(self):\n",
        "        print(\"Length:\", self.__length, \"Width:\", self.__width, \"Area:\", self.area(), \"Perimeter:\", self.perimeter())\n",
        "\n",
        "my_rectangle = Rectangle(3, 4)\n",
        "my_rectangle.display()"
      ],
      "metadata": {
        "id": "92_QT-Uj6NBg",
        "colab": {
          "base_uri": "https://localhost:8080/"
        },
        "outputId": "9b99f4e2-45ef-4bfd-d52a-00a3c111c9e5"
      },
      "execution_count": 5,
      "outputs": [
        {
          "output_type": "stream",
          "name": "stdout",
          "text": [
            "Length: 3 Width: 4 Area: 12 Perimeter: 14\n"
          ]
        }
      ]
    },
    {
      "cell_type": "markdown",
      "source": [
        "##`Q-2: Bank Class`\n",
        "\n",
        "1. Create a Python class called `BankAccount` which represents a bank account, having as attributes: `accountNumber` (numeric type), `name` (name of the account owner as string type), `balance`.\n",
        "2. Create a constructor with parameters: `accountNumber, name, balance`.\n",
        "3. Create a `Deposit()` method which manages the deposit actions.\n",
        "4. Create a `Withdrawal()` method  which manages withdrawals actions.\n",
        "5. Create an `bankFees()` method to apply the bank fees with a percentage of 5% of the balance account.\n",
        "6. Create a `display()` method to display account details.\n",
        "Give the complete code for the  BankAccount class."
      ],
      "metadata": {
        "id": "r_GxrS0Vrdom"
      }
    },
    {
      "cell_type": "markdown",
      "source": [
        "Eg.\n",
        "After making above classes and methods, on executing below code:-\n",
        "```\n",
        "newAccount = BankAccount(2178514584, \"Mandy\" , 2800)\n",
        "\n",
        "newAccount.Withdrawal(700)\n",
        "\n",
        "newAccount.Deposit(1000)\n",
        "\n",
        "newAccount.display()\n",
        "```\n",
        "\n",
        "`Output:`\n",
        "```\n",
        "Account Number :  2178514584\n",
        "Account Name :  Mandy\n",
        "Account Balance :  3100 ₹\n",
        "```"
      ],
      "metadata": {
        "id": "qvVkOUJgvTV_"
      }
    },
    {
      "cell_type": "code",
      "source": [
        "class BankAccount :\n",
        "  def __init__(self, accountnumber, name, balance):\n",
        "    self.__accountnummber = accountnumber\n",
        "    self.__name = name\n",
        "    self.__balance = balance\n",
        "\n",
        "  def deposit(self, amount):\n",
        "    self.__balance += amount\n",
        "    print(\"Amount deposited:\", amount)\n",
        "    print(\"Current balance:\", self.__balance)\n",
        "\n",
        "  def bankfees(self):\n",
        "    return self.__balance * 0.05\n",
        "\n",
        "  def withdrawal(self, amount):\n",
        "    if amount < 0:\n",
        "      print(\"Enter valid amount to withdraw.\")\n",
        "      return\n",
        "    elif self.__balance < amount:\n",
        "      print(\"Insufficient balance.\")\n",
        "      return\n",
        "    print(\"Current balance:\", self.__balance)\n",
        "    transcation_fees = self.bankfees()\n",
        "    self.__balance = self.__balance - amount - transcation_fees\n",
        "    print(\"Transaction fees:\", transcation_fees)\n",
        "    print(\"Amount withdrawn, remaining amount:\", self.__balance)\n",
        "\n",
        "  def display(self):\n",
        "    print(\"Account number:\", self.__accountnummber)\n",
        "    print(\"Account name:\", self.__name)\n",
        "    print(\"Account balance:\", self.__balance)\n",
        "\n",
        "newAccount = BankAccount(2178514584, \"Mandy\" , 2800)\n",
        "\n",
        "newAccount.withdrawal(700)\n",
        "\n",
        "newAccount.deposit(1000)\n",
        "\n",
        "newAccount.display()"
      ],
      "metadata": {
        "id": "fUQOmQyA6YDR",
        "colab": {
          "base_uri": "https://localhost:8080/"
        },
        "outputId": "e8ce56f8-6791-4aae-cad4-ca1927ff45c8"
      },
      "execution_count": 11,
      "outputs": [
        {
          "output_type": "stream",
          "name": "stdout",
          "text": [
            "Current balance: 2800\n",
            "Transaction fees: 140.0\n",
            "Amount withdrawn, remaining amount: 1960.0\n",
            "Amount deposited: 1000\n",
            "Current balance: 2960.0\n",
            "Account number: 2178514584\n",
            "Account name: Mandy\n",
            "Account balance: 2960.0\n"
          ]
        }
      ]
    },
    {
      "cell_type": "markdown",
      "source": [
        "##`Q-3:Computation class`\n",
        "\n",
        "1. Create a `Computation` class with a default constructor (without parameters) allowing to perform various calculations on integers numbers.\n",
        "2. Create a method called `Factorial()` which allows to calculate the factorial of an integer n. Integer n as parameter for this method\n",
        "\n",
        "3. Create a method called `naturalSum()` allowing to calculate the sum of the first n integers 1 + 2 + 3 + .. + n. Integer n as parameter for this method.\n",
        "\n",
        "4. Create a method called `testPrime()` in  the Calculation class to test the primality of a given integer n, n is Prime or Not? Integer n as parameter for this method.\n",
        "\n",
        "5. Create  a method called `testPrims()` allowing to test if two numbers are prime between them. Two integers are prime to one another if they have only `1` as their common divisor. Eg. 4 and 9 are prime to each other.\n",
        "\n",
        "5. Create a `tableMult()` method which creates and displays the multiplication table of a given integer. Then create an `allTablesMult()` method to display all the integer multiplication tables 1, 2, 3, ..., 9.\n",
        "\n",
        "6. Create a static `listDiv()` method that gets all the divisors of a given integer on new list called  Ldiv. Create another `listDivPrim()` method that gets all the prime divisors of a given integer."
      ],
      "metadata": {
        "id": "QovcQAZTrgGU"
      }
    },
    {
      "cell_type": "code",
      "source": [
        "import math\n",
        "\n",
        "class Computation:\n",
        "\n",
        "  def __init__(self):\n",
        "    print(\"Object created.\")\n",
        "\n",
        "  @staticmethod\n",
        "  def factorial(num):\n",
        "    result = 1\n",
        "    while num:\n",
        "      result *= num\n",
        "      num-=1\n",
        "\n",
        "    return result\n",
        "\n",
        "  @staticmethod\n",
        "  def naturalSum(num):\n",
        "    result  = 0\n",
        "    while num:\n",
        "      result += num\n",
        "      num-=1\n",
        "    return result\n",
        "\n",
        "  @staticmethod\n",
        "  def testPrime(num):\n",
        "    if num < 2:\n",
        "      return False\n",
        "    elif num in (2,3):\n",
        "      return True\n",
        "    elif num % 2 == 0 or num % 3 == 0:\n",
        "      return False\n",
        "\n",
        "    for i in range(5, int(num**0.5) + 1, 6):\n",
        "      if num % i == 0 or num % (i + 2) == 0:\n",
        "        return False\n",
        "    return True\n",
        "\n",
        "  @staticmethod\n",
        "  def testPrims(num1, num2):\n",
        "\n",
        "    if math.gcd(num1, num2) != 1:\n",
        "      print(\"Not prime\")\n",
        "    else:\n",
        "      print(\"Prime\")\n",
        "\n",
        "  @staticmethod\n",
        "  def tableMult(num):\n",
        "    for i in range(1, 11):\n",
        "      print(num, \"x\", i, \"=\", num * i)\n",
        "\n",
        "  @staticmethod\n",
        "  def allTablesMult():\n",
        "    for i in range(1, 10):\n",
        "      print(\"Table of\", i)\n",
        "      for j in range(1, 11):\n",
        "        print(i, \"x\", j, \"=\", i * j)\n",
        "\n",
        "  @staticmethod\n",
        "  def listDive(num):\n",
        "    Ldiv = []\n",
        "\n",
        "    for i in range(1, int(math.sqrt(num)) + 1):\n",
        "        if num % i == 0:\n",
        "            Ldiv.append(i)\n",
        "            if i != num // i:\n",
        "                Ldiv.append(num // i)\n",
        "\n",
        "    return sorted(Ldiv)\n",
        "\n",
        "obj1 = Computation()\n",
        "print(obj1.factorial(5))\n",
        "print(obj1.naturalSum(5))\n",
        "obj1.testPrime(13)\n",
        "print(obj1.testPrims(13, 17))\n",
        "print(obj1.tableMult(5))\n",
        "print(obj1.allTablesMult())\n",
        "print(obj1.listDive(12))"
      ],
      "metadata": {
        "id": "YEkPH70l6Z-o",
        "colab": {
          "base_uri": "https://localhost:8080/"
        },
        "outputId": "eb9320cb-0b7d-4d7d-cde5-1efe914aee5c"
      },
      "execution_count": 13,
      "outputs": [
        {
          "output_type": "stream",
          "name": "stdout",
          "text": [
            "Object created.\n",
            "120\n",
            "15\n",
            "Prime\n",
            "None\n",
            "5 x 1 = 5\n",
            "5 x 2 = 10\n",
            "5 x 3 = 15\n",
            "5 x 4 = 20\n",
            "5 x 5 = 25\n",
            "5 x 6 = 30\n",
            "5 x 7 = 35\n",
            "5 x 8 = 40\n",
            "5 x 9 = 45\n",
            "5 x 10 = 50\n",
            "None\n",
            "Table of 1\n",
            "1 x 1 = 1\n",
            "1 x 2 = 2\n",
            "1 x 3 = 3\n",
            "1 x 4 = 4\n",
            "1 x 5 = 5\n",
            "1 x 6 = 6\n",
            "1 x 7 = 7\n",
            "1 x 8 = 8\n",
            "1 x 9 = 9\n",
            "1 x 10 = 10\n",
            "Table of 2\n",
            "2 x 1 = 2\n",
            "2 x 2 = 4\n",
            "2 x 3 = 6\n",
            "2 x 4 = 8\n",
            "2 x 5 = 10\n",
            "2 x 6 = 12\n",
            "2 x 7 = 14\n",
            "2 x 8 = 16\n",
            "2 x 9 = 18\n",
            "2 x 10 = 20\n",
            "Table of 3\n",
            "3 x 1 = 3\n",
            "3 x 2 = 6\n",
            "3 x 3 = 9\n",
            "3 x 4 = 12\n",
            "3 x 5 = 15\n",
            "3 x 6 = 18\n",
            "3 x 7 = 21\n",
            "3 x 8 = 24\n",
            "3 x 9 = 27\n",
            "3 x 10 = 30\n",
            "Table of 4\n",
            "4 x 1 = 4\n",
            "4 x 2 = 8\n",
            "4 x 3 = 12\n",
            "4 x 4 = 16\n",
            "4 x 5 = 20\n",
            "4 x 6 = 24\n",
            "4 x 7 = 28\n",
            "4 x 8 = 32\n",
            "4 x 9 = 36\n",
            "4 x 10 = 40\n",
            "Table of 5\n",
            "5 x 1 = 5\n",
            "5 x 2 = 10\n",
            "5 x 3 = 15\n",
            "5 x 4 = 20\n",
            "5 x 5 = 25\n",
            "5 x 6 = 30\n",
            "5 x 7 = 35\n",
            "5 x 8 = 40\n",
            "5 x 9 = 45\n",
            "5 x 10 = 50\n",
            "Table of 6\n",
            "6 x 1 = 6\n",
            "6 x 2 = 12\n",
            "6 x 3 = 18\n",
            "6 x 4 = 24\n",
            "6 x 5 = 30\n",
            "6 x 6 = 36\n",
            "6 x 7 = 42\n",
            "6 x 8 = 48\n",
            "6 x 9 = 54\n",
            "6 x 10 = 60\n",
            "Table of 7\n",
            "7 x 1 = 7\n",
            "7 x 2 = 14\n",
            "7 x 3 = 21\n",
            "7 x 4 = 28\n",
            "7 x 5 = 35\n",
            "7 x 6 = 42\n",
            "7 x 7 = 49\n",
            "7 x 8 = 56\n",
            "7 x 9 = 63\n",
            "7 x 10 = 70\n",
            "Table of 8\n",
            "8 x 1 = 8\n",
            "8 x 2 = 16\n",
            "8 x 3 = 24\n",
            "8 x 4 = 32\n",
            "8 x 5 = 40\n",
            "8 x 6 = 48\n",
            "8 x 7 = 56\n",
            "8 x 8 = 64\n",
            "8 x 9 = 72\n",
            "8 x 10 = 80\n",
            "Table of 9\n",
            "9 x 1 = 9\n",
            "9 x 2 = 18\n",
            "9 x 3 = 27\n",
            "9 x 4 = 36\n",
            "9 x 5 = 45\n",
            "9 x 6 = 54\n",
            "9 x 7 = 63\n",
            "9 x 8 = 72\n",
            "9 x 9 = 81\n",
            "9 x 10 = 90\n",
            "None\n",
            "[1, 2, 3, 4, 6, 12]\n"
          ]
        }
      ]
    },
    {
      "cell_type": "markdown",
      "source": [
        "##`Q-4`: Build flashcard using class in Python.\n",
        "\n",
        "Build a flashcard using class in python. A flashcard is a card having information on both sides, which can be used as an aid in memoization. Flashcards usually have a question on one side and an answer on the other.\n",
        "\n",
        "**Example 1:**\n",
        "\n",
        "Approach:\n",
        "\n",
        "- Create a class named FlashCard.\n",
        "- Initialize dictionary fruits using __init__() method. Here you have to define fruit name as key and it's color as value. E.g., {\"Banana\": \"yellow\", \"Strawberries\": \"pink\"}\n",
        "- Now randomly choose a pair from fruits by using _random_ module and store the key in variable _fruit_ and _value_ in variable color.\n",
        "- Now prompt the user to answer the color of the randomly chosen fruit.\n",
        "- If correct print correct else print wrong.\n",
        "\n",
        "Output:\n",
        "```bash\n",
        "welcome to fruit quiz\n",
        "What is the color of Strawberries\n",
        "pink\n",
        "Correct answer\n",
        "Enter 0, if you want to play again: 0\n",
        "What is the color of watermelon\n",
        "green\n",
        "Correct answer\n",
        "Enter 0, if you want to play again: 1\n",
        "```"
      ],
      "metadata": {
        "id": "0yn23_oEriXa"
      }
    },
    {
      "cell_type": "code",
      "source": [
        "import random\n",
        "\n",
        "class Flashcard:\n",
        "\n",
        "  def __init__(self):\n",
        "    self.__fruits = {\"Banana\": \"yellow\", \"Strawberries\": \"pink\", \"Apple\": \"red\"}\n",
        "\n",
        "  def play(self):\n",
        "    print(\"Welcome to fruit quiz\")\n",
        "    while True:\n",
        "      fruit, color = random.choice(list(self.__fruits.items()))\n",
        "\n",
        "      print(\"what was the color of the fruit:\", fruit)\n",
        "      pred_color = input(\"Enter the color of the fruit:\").lower()\n",
        "      if color  == pred_color:\n",
        "        print(\"Correct\")\n",
        "      else:\n",
        "        print(\"Not correct.\")\n",
        "      break\n",
        "\n",
        "cards = Flashcard()\n",
        "cards.play()"
      ],
      "metadata": {
        "id": "vCrUF6VU6l6w",
        "colab": {
          "base_uri": "https://localhost:8080/"
        },
        "outputId": "a271ffaf-ed21-4e8d-f5ba-e50a3cfdc303"
      },
      "execution_count": 18,
      "outputs": [
        {
          "output_type": "stream",
          "name": "stdout",
          "text": [
            "Welcome to fruit quiz\n",
            "what was the color of the fruit: Strawberries\n",
            "Enter the color of the fruit:Pink\n",
            "Correct\n"
          ]
        }
      ]
    },
    {
      "cell_type": "markdown",
      "source": [
        "## `Q-5:` Problem 5 based on OOP Python.\n",
        "\n",
        "TechWorld, a technology training center, wants to allocate courses for instructors. An instructor is identified by name, technology skills, experience and average feedback. An instructor is allocated a course, if he/she satisfies the below two conditions:\n",
        "- eligibility criteria:\n",
        "    - if experience is more than 3 years, average feedback should be 4.5 or more\n",
        "    - if experience is 3 years or less, average feedback should be 4 or more\n",
        "- he/she should posses the technology skill for the course\n",
        "\n",
        "Identify the class name and attributes to represent instructors. Write a Python program to implement the class chosen with its attributes and methods.\n",
        "\n",
        "**Note:**\n",
        "- Consider all instance variables to be private and methods to be public.\n",
        "- An instructor may have multiple technology skills, so consider instance variable, technology_skill to be a list.\n",
        "- *check_eligibility()*: Return true if eligibility criteria is satisfied by the instructor. Else, return false\n",
        "- *allocate_course(technology)*: Return true if the course which requires the given technology can be allocated to the instructor. Else, return false.\n",
        "\n",
        "Represent a few objects of the class, initialize instance variables using setter methods, invoke\n",
        "appropriate methods and test your program."
      ],
      "metadata": {
        "id": "GN2r0jbRewYr"
      }
    },
    {
      "cell_type": "code",
      "source": [
        "class TechWorld:\n",
        "\n",
        "  def __init__(self, name, experience, feedback, technology_skills):\n",
        "    self.__name = name\n",
        "    self.__experience = experience\n",
        "    self.__feedback = feedback\n",
        "    self.__technology_skills = technology_skills\n",
        "\n",
        "  def check_eligibility(self, skill):\n",
        "    if self.__experience > 3 and self.__feedback >= 4.5:\n",
        "      return True\n",
        "    elif self.__experience <= 3 and self.__feedback >= 4:\n",
        "      return True\n",
        "    else:\n",
        "      return False\n",
        "\n",
        "  def allocate_course(self, technology):\n",
        "    if self.check_eligibility(technology):\n",
        "      if technology in self.__technology_skills:\n",
        "        return True\n",
        "      else:\n",
        "        return False\n",
        "    else:\n",
        "      return False\n",
        "\n",
        "tutor1 = TechWorld(\"Rohit\", 4, 4.7, [\"Python\", \"Java\"])\n",
        "print(\"Course can be allocated\" if tutor1.allocate_course(\"Web Dev\") else \"Course cannot be allocated.\")"
      ],
      "metadata": {
        "id": "pdMFuVFnlvKL",
        "colab": {
          "base_uri": "https://localhost:8080/"
        },
        "outputId": "a7be1835-01a0-408a-f6ae-6c02ff26981d"
      },
      "execution_count": 20,
      "outputs": [
        {
          "output_type": "stream",
          "name": "stdout",
          "text": [
            "Course cannot be allocated.\n"
          ]
        }
      ]
    }
  ]
}